{
 "cells": [
  {
   "cell_type": "code",
   "execution_count": null,
   "metadata": {},
   "outputs": [],
   "source": [
    "from openai import OpenAI\n",
    "from rich import print\n",
    "\n",
    "from langchain_experimental.openai_assistant import OpenAIAssistantRunnable"
   ]
  },
  {
   "cell_type": "code",
   "execution_count": 3,
   "metadata": {},
   "outputs": [],
   "source": []
  },
  {
   "cell_type": "code",
   "execution_count": 8,
   "metadata": {},
   "outputs": [
    {
     "data": {
      "text/plain": [
       "[Document(page_content='This is a test document'),\n",
       " Document(page_content='This is a test document'),\n",
       " Document(page_content='This is a test document'),\n",
       " Document(page_content='doc')]"
      ]
     },
     "execution_count": 8,
     "metadata": {},
     "output_type": "execute_result"
    }
   ],
   "source": [
    "from langchain.embeddings.openai import OpenAIEmbeddings\n",
    "from langchain.schema import Document\n",
    "emb = OpenAIEmbeddings()\n",
    "doc = Document(page_content=\"This is a test document\")\n",
    "\n",
    "from langchain.vectorstores.chroma import Chroma\n",
    "from langchain.prompts import PromptTemplate\n",
    "c = Chroma.from_documents(['doc'], emb)\n",
    "\n",
    "c.similarity_search('test')"
   ]
  },
  {
   "cell_type": "code",
   "execution_count": 14,
   "metadata": {},
   "outputs": [
    {
     "name": "stdout",
     "output_type": "stream",
     "text": [
      "{'lc': 1, 'type': 'not_implemented', 'id': ['langchain', 'schema', 'vectorstore', 'VectorStoreRetriever'], 'repr': \"VectorStoreRetriever(tags=['Chroma'], vectorstore=<langchain.vectorstores.chroma.Chroma object at 0x1477c3400>)\"}\n"
     ]
    }
   ],
   "source": [
    "print(js)"
   ]
  },
  {
   "cell_type": "code",
   "execution_count": 19,
   "metadata": {},
   "outputs": [
    {
     "data": {
      "text/plain": [
       "PromptTemplate(input_variables=['test'], template='text {test}')"
      ]
     },
     "execution_count": 19,
     "metadata": {},
     "output_type": "execute_result"
    }
   ],
   "source": [
    "load(PromptTemplate.from_template(template=\"text {test}\").to_json())"
   ]
  },
  {
   "cell_type": "code",
   "execution_count": 13,
   "metadata": {},
   "outputs": [
    {
     "ename": "NotImplementedError",
     "evalue": "Trying to load an object that doesn't implement serialization: {'lc': 1, 'type': 'not_implemented', 'id': ['langchain', 'schema', 'vectorstore', 'VectorStoreRetriever'], 'repr': \"VectorStoreRetriever(tags=['Chroma'], vectorstore=<langchain.vectorstores.chroma.Chroma object at 0x1477c3400>)\"}",
     "output_type": "error",
     "traceback": [
      "\u001b[0;31m---------------------------------------------------------------------------\u001b[0m",
      "\u001b[0;31mNotImplementedError\u001b[0m                       Traceback (most recent call last)",
      "\u001b[1;32m/Users/ogabrielluiz/Projects/langflow2/assist_tests.ipynb Cell 3\u001b[0m line \u001b[0;36m2\n\u001b[1;32m      <a href='vscode-notebook-cell:/Users/ogabrielluiz/Projects/langflow2/assist_tests.ipynb#X22sZmlsZQ%3D%3D?line=0'>1</a>\u001b[0m js \u001b[39m=\u001b[39m c\u001b[39m.\u001b[39mto_json()\n\u001b[0;32m----> <a href='vscode-notebook-cell:/Users/ogabrielluiz/Projects/langflow2/assist_tests.ipynb#X22sZmlsZQ%3D%3D?line=1'>2</a>\u001b[0m load(js)\n",
      "File \u001b[0;32m~/Library/Caches/pypoetry/virtualenvs/langflow-6d-0LOdG-py3.10/lib/python3.10/site-packages/langchain/load/load.py:126\u001b[0m, in \u001b[0;36mload\u001b[0;34m(obj, secrets_map, valid_namespaces)\u001b[0m\n\u001b[1;32m    123\u001b[0m         \u001b[39mreturn\u001b[39;00m [_load(o) \u001b[39mfor\u001b[39;00m o \u001b[39min\u001b[39;00m obj]\n\u001b[1;32m    124\u001b[0m     \u001b[39mreturn\u001b[39;00m obj\n\u001b[0;32m--> 126\u001b[0m \u001b[39mreturn\u001b[39;00m _load(obj)\n",
      "File \u001b[0;32m~/Library/Caches/pypoetry/virtualenvs/langflow-6d-0LOdG-py3.10/lib/python3.10/site-packages/langchain/load/load.py:121\u001b[0m, in \u001b[0;36mload.<locals>._load\u001b[0;34m(obj)\u001b[0m\n\u001b[1;32m    118\u001b[0m \u001b[39mif\u001b[39;00m \u001b[39misinstance\u001b[39m(obj, \u001b[39mdict\u001b[39m):\n\u001b[1;32m    119\u001b[0m     \u001b[39m# Need to revive leaf nodes before reviving this node\u001b[39;00m\n\u001b[1;32m    120\u001b[0m     loaded_obj \u001b[39m=\u001b[39m {k: _load(v) \u001b[39mfor\u001b[39;00m k, v \u001b[39min\u001b[39;00m obj\u001b[39m.\u001b[39mitems()}\n\u001b[0;32m--> 121\u001b[0m     \u001b[39mreturn\u001b[39;00m reviver(loaded_obj)\n\u001b[1;32m    122\u001b[0m \u001b[39mif\u001b[39;00m \u001b[39misinstance\u001b[39m(obj, \u001b[39mlist\u001b[39m):\n\u001b[1;32m    123\u001b[0m     \u001b[39mreturn\u001b[39;00m [_load(o) \u001b[39mfor\u001b[39;00m o \u001b[39min\u001b[39;00m obj]\n",
      "File \u001b[0;32m~/Library/Caches/pypoetry/virtualenvs/langflow-6d-0LOdG-py3.10/lib/python3.10/site-packages/langchain/load/load.py:42\u001b[0m, in \u001b[0;36mReviver.__call__\u001b[0;34m(self, value)\u001b[0m\n\u001b[1;32m     35\u001b[0m         \u001b[39mraise\u001b[39;00m \u001b[39mKeyError\u001b[39;00m(\u001b[39mf\u001b[39m\u001b[39m'\u001b[39m\u001b[39mMissing key \u001b[39m\u001b[39m\"\u001b[39m\u001b[39m{\u001b[39;00mkey\u001b[39m}\u001b[39;00m\u001b[39m\"\u001b[39m\u001b[39m in load(secrets_map)\u001b[39m\u001b[39m'\u001b[39m)\n\u001b[1;32m     37\u001b[0m \u001b[39mif\u001b[39;00m (\n\u001b[1;32m     38\u001b[0m     value\u001b[39m.\u001b[39mget(\u001b[39m\"\u001b[39m\u001b[39mlc\u001b[39m\u001b[39m\"\u001b[39m, \u001b[39mNone\u001b[39;00m) \u001b[39m==\u001b[39m \u001b[39m1\u001b[39m\n\u001b[1;32m     39\u001b[0m     \u001b[39mand\u001b[39;00m value\u001b[39m.\u001b[39mget(\u001b[39m\"\u001b[39m\u001b[39mtype\u001b[39m\u001b[39m\"\u001b[39m, \u001b[39mNone\u001b[39;00m) \u001b[39m==\u001b[39m \u001b[39m\"\u001b[39m\u001b[39mnot_implemented\u001b[39m\u001b[39m\"\u001b[39m\n\u001b[1;32m     40\u001b[0m     \u001b[39mand\u001b[39;00m value\u001b[39m.\u001b[39mget(\u001b[39m\"\u001b[39m\u001b[39mid\u001b[39m\u001b[39m\"\u001b[39m, \u001b[39mNone\u001b[39;00m) \u001b[39mis\u001b[39;00m \u001b[39mnot\u001b[39;00m \u001b[39mNone\u001b[39;00m\n\u001b[1;32m     41\u001b[0m ):\n\u001b[0;32m---> 42\u001b[0m     \u001b[39mraise\u001b[39;00m \u001b[39mNotImplementedError\u001b[39;00m(\n\u001b[1;32m     43\u001b[0m         \u001b[39m\"\u001b[39m\u001b[39mTrying to load an object that doesn\u001b[39m\u001b[39m'\u001b[39m\u001b[39mt implement \u001b[39m\u001b[39m\"\u001b[39m\n\u001b[1;32m     44\u001b[0m         \u001b[39mf\u001b[39m\u001b[39m\"\u001b[39m\u001b[39mserialization: \u001b[39m\u001b[39m{\u001b[39;00mvalue\u001b[39m}\u001b[39;00m\u001b[39m\"\u001b[39m\n\u001b[1;32m     45\u001b[0m     )\n\u001b[1;32m     47\u001b[0m \u001b[39mif\u001b[39;00m (\n\u001b[1;32m     48\u001b[0m     value\u001b[39m.\u001b[39mget(\u001b[39m\"\u001b[39m\u001b[39mlc\u001b[39m\u001b[39m\"\u001b[39m, \u001b[39mNone\u001b[39;00m) \u001b[39m==\u001b[39m \u001b[39m1\u001b[39m\n\u001b[1;32m     49\u001b[0m     \u001b[39mand\u001b[39;00m value\u001b[39m.\u001b[39mget(\u001b[39m\"\u001b[39m\u001b[39mtype\u001b[39m\u001b[39m\"\u001b[39m, \u001b[39mNone\u001b[39;00m) \u001b[39m==\u001b[39m \u001b[39m\"\u001b[39m\u001b[39mconstructor\u001b[39m\u001b[39m\"\u001b[39m\n\u001b[1;32m     50\u001b[0m     \u001b[39mand\u001b[39;00m value\u001b[39m.\u001b[39mget(\u001b[39m\"\u001b[39m\u001b[39mid\u001b[39m\u001b[39m\"\u001b[39m, \u001b[39mNone\u001b[39;00m) \u001b[39mis\u001b[39;00m \u001b[39mnot\u001b[39;00m \u001b[39mNone\u001b[39;00m\n\u001b[1;32m     51\u001b[0m ):\n\u001b[1;32m     52\u001b[0m     [\u001b[39m*\u001b[39mnamespace, name] \u001b[39m=\u001b[39m value[\u001b[39m\"\u001b[39m\u001b[39mid\u001b[39m\u001b[39m\"\u001b[39m]\n",
      "\u001b[0;31mNotImplementedError\u001b[0m: Trying to load an object that doesn't implement serialization: {'lc': 1, 'type': 'not_implemented', 'id': ['langchain', 'schema', 'vectorstore', 'VectorStoreRetriever'], 'repr': \"VectorStoreRetriever(tags=['Chroma'], vectorstore=<langchain.vectorstores.chroma.Chroma object at 0x1477c3400>)\"}"
     ]
    }
   ],
   "source": [
    "js = c.to_json()\n",
    "load(js)"
   ]
  },
  {
   "cell_type": "code",
   "execution_count": 2,
   "metadata": {},
   "outputs": [],
   "source": []
  },
  {
   "cell_type": "code",
   "execution_count": 4,
   "metadata": {},
   "outputs": [
    {
     "ename": "AttributeError",
     "evalue": "'Chroma' object has no attribute 'is_lc_serializable'",
     "output_type": "error",
     "traceback": [
      "\u001b[0;31m---------------------------------------------------------------------------\u001b[0m",
      "\u001b[0;31mAttributeError\u001b[0m                            Traceback (most recent call last)",
      "\u001b[1;32m/Users/ogabrielluiz/Projects/langflow2/assist_tests.ipynb Cell 4\u001b[0m line \u001b[0;36m1\n\u001b[0;32m----> <a href='vscode-notebook-cell:/Users/ogabrielluiz/Projects/langflow2/assist_tests.ipynb#X21sZmlsZQ%3D%3D?line=0'>1</a>\u001b[0m c\u001b[39m.\u001b[39;49mis_lc_serializable\n",
      "\u001b[0;31mAttributeError\u001b[0m: 'Chroma' object has no attribute 'is_lc_serializable'"
     ]
    }
   ],
   "source": []
  },
  {
   "cell_type": "code",
   "execution_count": null,
   "metadata": {},
   "outputs": [],
   "source": [
    "from langchain.chat_models import ChatOpenAI\n",
    "from langchain.prompts import PromptTemplate"
   ]
  },
  {
   "cell_type": "code",
   "execution_count": null,
   "metadata": {},
   "outputs": [],
   "source": [
    "client = OpenAI()"
   ]
  },
  {
   "cell_type": "code",
   "execution_count": null,
   "metadata": {},
   "outputs": [],
   "source": [
    "assists =client.beta.assistants.list()"
   ]
  },
  {
   "cell_type": "code",
   "execution_count": null,
   "metadata": {},
   "outputs": [],
   "source": [
    "from langflow import CustomComponent\n",
    "\n",
    "class OpenAIAssistantComponent(CustomComponent):\n",
    "\n",
    "\n",
    "    def build(self, openai_api_key: str):\n",
    "        openai_client = OpenAI(api_key=openai_api_key)"
   ]
  },
  {
   "cell_type": "code",
   "execution_count": null,
   "metadata": {},
   "outputs": [],
   "source": [
    "    for assistant in assists:\n",
    "    print(assistant)"
   ]
  },
  {
   "cell_type": "code",
   "execution_count": null,
   "metadata": {},
   "outputs": [],
   "source": [
    "assistant = client.beta.assistants.retrieve(\"asst_tctxmEx2WC2IVKkHxhvLCDhA\")"
   ]
  },
  {
   "cell_type": "code",
   "execution_count": null,
   "metadata": {},
   "outputs": [],
   "source": [
    "assistant"
   ]
  },
  {
   "cell_type": "code",
   "execution_count": null,
   "metadata": {},
   "outputs": [],
   "source": [
    "from pydantic import BaseModel, Field\n",
    "from datetime import datetime\n",
    "from typing import Optional, Dict\n",
    "\n",
    "\n",
    "class TransactionModel(BaseModel):\n",
    "    id: Optional[int] = Field(default=None, alias=\"id\")\n",
    "    timestamp: Optional[datetime] = Field(\n",
    "        default_factory=datetime.now, alias=\"timestamp\"\n",
    "    )\n",
    "    source: str\n",
    "    target: str\n",
    "    target_args: Dict\n",
    "    status: str\n",
    "    error: Optional[str] = None\n",
    "\n",
    "    class Config:\n",
    "        orm_mode = True\n",
    "        allow_population_by_field_name = True\n",
    "\n",
    "\n",
    "class MessageModel(BaseModel):\n",
    "    id: Optional[int] = Field(default=None, alias=\"id\")\n",
    "    timestamp: datetime = Field(default_factory=datetime.now)\n",
    "    sender_type: str\n",
    "    sender_name: str\n",
    "    artifacts: Dict\n",
    "\n",
    "    class Config:\n",
    "        orm_mode = True\n",
    "        allow_population_by_field_name = True"
   ]
  },
  {
   "cell_type": "code",
   "execution_count": null,
   "metadata": {},
   "outputs": [],
   "source": [
    "import duckdb\n",
    "from pydantic import BaseModel\n",
    "from typing import Type\n",
    "\n",
    "\n",
    "def get_table_schema_as_dict(conn: duckdb.DuckDBPyConnection, table_name: str) -> dict:\n",
    "    result = conn.execute(f\"PRAGMA table_info('{table_name}')\").fetchall()\n",
    "    return {row[1]: row[2].upper() for row in result}\n",
    "\n",
    "\n",
    "def model_to_sql_column_definitions(model: Type[BaseModel]) -> dict:\n",
    "    columns = {}\n",
    "    for field_name, field_type in model.__fields__.items():\n",
    "        field_info = field_type.type_\n",
    "        if field_info.__name__ == \"int\":\n",
    "            sql_type = \"INTEGER\"\n",
    "        elif field_info.__name__ == \"str\":\n",
    "            sql_type = \"VARCHAR\"\n",
    "        elif field_info.__name__ == \"datetime\":\n",
    "            sql_type = \"TIMESTAMP\"\n",
    "        elif field_info.__name__ == \"bool\":\n",
    "            sql_type = \"BOOLEAN\"\n",
    "        # Add more type mappings here if necessary\n",
    "        else:\n",
    "            continue  # Skip types we don't handle\n",
    "        columns[field_name] = sql_type\n",
    "    return columns\n",
    "\n",
    "\n",
    "def drop_and_create_table_if_schema_mismatch(\n",
    "    db_path: str, table_name: str, model: Type[BaseModel]\n",
    "):\n",
    "    with duckdb.connect(db_path) as conn:\n",
    "        # Get the current schema from the database\n",
    "        current_schema = get_table_schema_as_dict(conn, table_name)\n",
    "        # Get the desired schema from the model\n",
    "        desired_schema = model_to_sql_column_definitions(model)\n",
    "\n",
    "        # Compare the current and desired schemas\n",
    "        if current_schema != desired_schema:\n",
    "            # If they don't match, drop the existing table and create a new one\n",
    "            conn.execute(f\"DROP TABLE IF EXISTS {table_name}\")\n",
    "            columns_sql = \", \".join(\n",
    "                f\"{name} {data_type}\" for name, data_type in desired_schema.items()\n",
    "            )\n",
    "            create_table_sql = f\"CREATE TABLE {table_name} ({columns_sql})\"\n",
    "            conn.execute(create_table_sql)\n",
    "\n",
    "\n",
    "# Usage example\n",
    "drop_and_create_table_if_schema_mismatch(\n",
    "    \"my_database.duckdb\", \"transactions\", TransactionModel\n",
    ")"
   ]
  },
  {
   "cell_type": "code",
   "execution_count": null,
   "metadata": {},
   "outputs": [],
   "source": [
    "def print_table_schema(db_path: str, table_name: str):\n",
    "    with duckdb.connect(db_path) as conn:\n",
    "        # Fetch the schema for the specified table\n",
    "        schema_result = conn.execute(f\"PRAGMA show('{table_name}');\").fetchall()\n",
    "\n",
    "        # Print the schema\n",
    "        for column in schema_result:\n",
    "            print(column)\n",
    "\n",
    "\n",
    "# Usage\n",
    "print_table_schema(\"my_database.duckdb\", \"transactions\")"
   ]
  },
  {
   "cell_type": "code",
   "execution_count": null,
   "metadata": {},
   "outputs": [],
   "source": [
    "print_table_schema(\"my_database.duckdb\", \"messages\")"
   ]
  },
  {
   "cell_type": "code",
   "execution_count": null,
   "metadata": {},
   "outputs": [],
   "source": []
  }
 ],
 "metadata": {
  "kernelspec": {
   "display_name": "langflow-6d-0LOdG-py3.10",
   "language": "python",
   "name": "python3"
  },
  "language_info": {
   "codemirror_mode": {
    "name": "ipython",
    "version": 3
   },
   "file_extension": ".py",
   "mimetype": "text/x-python",
   "name": "python",
   "nbconvert_exporter": "python",
   "pygments_lexer": "ipython3",
   "version": "3.10.9"
  }
 },
 "nbformat": 4,
 "nbformat_minor": 2
}
